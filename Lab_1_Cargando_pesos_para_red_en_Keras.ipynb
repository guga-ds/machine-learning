{
  "nbformat": 4,
  "nbformat_minor": 0,
  "metadata": {
    "colab": {
      "name": "Copia de Lab_1: Cargando pesos para red en Keras",
      "version": "0.3.2",
      "provenance": [],
      "collapsed_sections": [
        "rJ1-1vQO8Olq"
      ],
      "toc_visible": true,
      "include_colab_link": true
    },
    "kernelspec": {
      "name": "python3",
      "display_name": "Python 3"
    },
    "accelerator": "GPU"
  },
  "cells": [
    {
      "cell_type": "markdown",
      "metadata": {
        "id": "view-in-github",
        "colab_type": "text"
      },
      "source": [
        "[View in Colaboratory](https://colab.research.google.com/github/guga-ds/machine-learning/blob/master/Lab_1_Cargando_pesos_para_red_en_Keras.ipynb)"
      ]
    },
    {
      "metadata": {
        "id": "Zu0VgDj7lW_D",
        "colab_type": "text"
      },
      "cell_type": "markdown",
      "source": [
        "# Redes Feed Forward en Keras"
      ]
    },
    {
      "metadata": {
        "id": "P4DSrq_3aech",
        "colab_type": "code",
        "colab": {
          "base_uri": "https://localhost:8080/",
          "height": 34
        },
        "outputId": "218c8506-f326-4938-f958-673991482aa9"
      },
      "cell_type": "code",
      "source": [
        "import keras"
      ],
      "execution_count": 4,
      "outputs": [
        {
          "output_type": "stream",
          "text": [
            "Using TensorFlow backend.\n"
          ],
          "name": "stderr"
        }
      ]
    },
    {
      "metadata": {
        "id": "ZuHWCb6beXNO",
        "colab_type": "code",
        "colab": {
          "base_uri": "https://localhost:8080/",
          "height": 136
        },
        "outputId": "182b8ba5-aca1-4ffe-9a16-080b2b081e09"
      },
      "cell_type": "code",
      "source": [
        "# Una red feed forward en keras se puede crear con keras.Sequential\n",
        "\n",
        "red_de_prueba = keras.Sequential()\n",
        "\n",
        "# Se puede ver un resumen de la red hasta ahora con .summary \n",
        "# Por ahora nuestra red está vacía\n",
        "\n",
        "red_de_prueba.summary()"
      ],
      "execution_count": 5,
      "outputs": [
        {
          "output_type": "stream",
          "text": [
            "_________________________________________________________________\n",
            "Layer (type)                 Output Shape              Param #   \n",
            "=================================================================\n",
            "Total params: 0\n",
            "Trainable params: 0\n",
            "Non-trainable params: 0\n",
            "_________________________________________________________________\n"
          ],
          "name": "stdout"
        }
      ]
    },
    {
      "metadata": {
        "id": "nVFAZZ43eh8K",
        "colab_type": "code",
        "colab": {
          "base_uri": "https://localhost:8080/",
          "height": 204
        },
        "outputId": "b94892fb-d7e4-4b5b-c811-60049847a738"
      },
      "cell_type": "code",
      "source": [
        "# Se pueden agregar capas con el método .add\n",
        "# Por ahora usaremos capas densas(están todas las neuronas conectadas con todas),\n",
        "# que se crean con keras.layers.Dense\n",
        "# Una capa dense está definida por la cantidad de neuronas y la\n",
        "# función de activación. También se le puede asignar un nombre.\n",
        "#\n",
        "# El siguiente código agrega dos capas:\n",
        "# - una primera capa con 30 neuronas y activación sigmoid\n",
        "# - una segunnda capa con 20 neuronas y activación relu\n",
        "#\n",
        "# Nota que a la primera capa debes decirle el tamaño de la entrada\n",
        "# Estamos suponiendo que la entrada es de tamaño 40.\n",
        "\n",
        "red_de_prueba.add(\n",
        "    keras.layers.Dense(30, input_dim=40, activation='sigmoid', \n",
        "                       name='primera_capa')\n",
        ")\n",
        "# esta no es necesario indicar el input\n",
        "red_de_prueba.add(\n",
        "    keras.layers.Dense(20, activation='relu', name='segunda_capa')\n",
        ")\n",
        "\n",
        "red_de_prueba.summary()\n",
        "# 1200 los pesos + 30 que son los bias."
      ],
      "execution_count": 6,
      "outputs": [
        {
          "output_type": "stream",
          "text": [
            "_________________________________________________________________\n",
            "Layer (type)                 Output Shape              Param #   \n",
            "=================================================================\n",
            "primera_capa (Dense)         (None, 30)                1230      \n",
            "_________________________________________________________________\n",
            "segunda_capa (Dense)         (None, 20)                620       \n",
            "=================================================================\n",
            "Total params: 1,850\n",
            "Trainable params: 1,850\n",
            "Non-trainable params: 0\n",
            "_________________________________________________________________\n"
          ],
          "name": "stdout"
        }
      ]
    },
    {
      "metadata": {
        "id": "AglNosCMf2gR",
        "colab_type": "code",
        "colab": {
          "base_uri": "https://localhost:8080/",
          "height": 238
        },
        "outputId": "e6b5329f-6371-456c-b89a-339526c72463"
      },
      "cell_type": "code",
      "source": [
        "# Podemos agregar otra capa sobre las anteriores\n",
        "# La capa también se puede crear en una variable y luego usarla\n",
        "\n",
        "ultima_capa = keras.layers.Dense(1, activation='sigmoid', name='ultima')\n",
        "red_de_prueba.add(ultima_capa)\n",
        "\n",
        "# Nuestra red debiera tener ahora 3 capas\n",
        "red_de_prueba.summary()"
      ],
      "execution_count": 7,
      "outputs": [
        {
          "output_type": "stream",
          "text": [
            "_________________________________________________________________\n",
            "Layer (type)                 Output Shape              Param #   \n",
            "=================================================================\n",
            "primera_capa (Dense)         (None, 30)                1230      \n",
            "_________________________________________________________________\n",
            "segunda_capa (Dense)         (None, 20)                620       \n",
            "_________________________________________________________________\n",
            "ultima (Dense)               (None, 1)                 21        \n",
            "=================================================================\n",
            "Total params: 1,871\n",
            "Trainable params: 1,871\n",
            "Non-trainable params: 0\n",
            "_________________________________________________________________\n"
          ],
          "name": "stdout"
        }
      ]
    },
    {
      "metadata": {
        "id": "hGtVFqKtiikW",
        "colab_type": "text"
      },
      "cell_type": "markdown",
      "source": [
        "## Ejercicio 1\n",
        "Crea una red de nombre `red` con 3 capas escondidas con las siguientes dimensiones  (el primer numero es el tamaño del input, el ultimo el tamaño del output):\n",
        "\n",
        "30 --> 20 --> 10 --> 20 --> 4\n",
        "\n",
        "y con activaciones `'relu'`, `'sigmoid'`, `'relu'`, `'softmax'`. Ponle nombres \"primera\", \"segunda\", \"tercera\" y \"final\" a las capas de tu red. Tu código debiera comenzar con  `red = keras.Sequential()`. \n",
        "\n",
        "Al terminar tu código y ejecutar `red.summary()` debieras ver un texto como el siguiente:\n",
        "\n",
        "```\n",
        "_________________________________________________________________\n",
        "Layer (type)                 Output Shape              Param #   \n",
        "=================================================================\n",
        "primera (Dense)              (None, 20)                620       \n",
        "_________________________________________________________________\n",
        "segunda (Dense)              (None, 10)                210       \n",
        "_________________________________________________________________\n",
        "tercera (Dense)              (None, 20)                220       \n",
        "_________________________________________________________________\n",
        "final (Dense)                (None, 4)                 84        \n",
        "=================================================================\n",
        "Total params: 1,134\n",
        "Trainable params: 1,134\n",
        "Non-trainable params: 0\n",
        "_________________________________________________________________\n",
        "```"
      ]
    },
    {
      "metadata": {
        "id": "uPYncUn7hdzn",
        "colab_type": "code",
        "colab": {
          "base_uri": "https://localhost:8080/",
          "height": 272
        },
        "outputId": "1ce5dd14-a1d9-4670-903f-9a6aa8cdabe2"
      },
      "cell_type": "code",
      "source": [
        "# Acá empieza tu código (~5 líneas)\n",
        "red = keras.Sequential()\n",
        "\n",
        "red.add(\n",
        "    keras.layers.Dense(20, input_dim=30, activation='relu', \n",
        "                       name='primera')\n",
        ")\n",
        "\n",
        "red.add(\n",
        "    keras.layers.Dense(10, activation='sigmoid', name='segunda')\n",
        ")\n",
        "\n",
        "red.add(\n",
        "    keras.layers.Dense(20, activation='relu', name='tercera')\n",
        ")\n",
        "\n",
        "red.add(\n",
        "    keras.layers.Dense(4, activation='softmax', name='final')\n",
        ")\n",
        "\n",
        "# Acá termina tu código\n",
        "\n",
        "red.summary()"
      ],
      "execution_count": 8,
      "outputs": [
        {
          "output_type": "stream",
          "text": [
            "_________________________________________________________________\n",
            "Layer (type)                 Output Shape              Param #   \n",
            "=================================================================\n",
            "primera (Dense)              (None, 20)                620       \n",
            "_________________________________________________________________\n",
            "segunda (Dense)              (None, 10)                210       \n",
            "_________________________________________________________________\n",
            "tercera (Dense)              (None, 20)                220       \n",
            "_________________________________________________________________\n",
            "final (Dense)                (None, 4)                 84        \n",
            "=================================================================\n",
            "Total params: 1,134\n",
            "Trainable params: 1,134\n",
            "Non-trainable params: 0\n",
            "_________________________________________________________________\n"
          ],
          "name": "stdout"
        }
      ]
    },
    {
      "metadata": {
        "id": "sh3O1Q19k3_z",
        "colab_type": "text"
      },
      "cell_type": "markdown",
      "source": [
        "## Ejercicio 2\n",
        "\n",
        "Una red sin pesos no puede hacer nada realmente. En este ejercicio agregaremos pesos al azar a cada capa de la red. Más adelante agregaremos pesos con sentido."
      ]
    },
    {
      "metadata": {
        "id": "_ScPCs6wh9Pp",
        "colab_type": "code",
        "colab": {}
      },
      "cell_type": "code",
      "source": [
        "import numpy as np\n",
        "np.random.seed(30) # esto es para que el proceso sea repetible"
      ],
      "execution_count": 0,
      "outputs": []
    },
    {
      "metadata": {
        "id": "CoM6KeLXlQsA",
        "colab_type": "code",
        "colab": {}
      },
      "cell_type": "code",
      "source": [
        "# La primera capa es de dimensiones 30x20 con un bias de tamaño 20.\n",
        "# El sigueinte código crea matrices de pesos y bias para la primera\n",
        "# capa de nuestra red anterior\n",
        "\n",
        "W1 = np.random.randn(30,20).astype('float32')\n",
        "b1 = np.random.randn(20).astype('float32')"
      ],
      "execution_count": 0,
      "outputs": []
    },
    {
      "metadata": {
        "id": "yiXzRIPclQfZ",
        "colab_type": "code",
        "colab": {}
      },
      "cell_type": "code",
      "source": [
        "# Con este código podemos setear los pesos directamente en la primera capa\n",
        "\n",
        "red.get_layer('primera').set_weights((W1,b1))"
      ],
      "execution_count": 0,
      "outputs": []
    },
    {
      "metadata": {
        "id": "T-Rfe6OGlQT7",
        "colab_type": "code",
        "colab": {
          "base_uri": "https://localhost:8080/",
          "height": 34
        },
        "outputId": "d5744fc4-a91a-4b94-8515-40f41722edcf"
      },
      "cell_type": "code",
      "source": [
        "# podemos ver que los pesos sean efectivamente los mismos haciendo esto\n",
        "\n",
        "(W,b) = red.get_layer('primera').get_weights()\n",
        "print(W[10][10], W1[10][10])"
      ],
      "execution_count": 12,
      "outputs": [
        {
          "output_type": "stream",
          "text": [
            "-0.49068466 -0.49068466\n"
          ],
          "name": "stdout"
        }
      ]
    },
    {
      "metadata": {
        "id": "V42fmihJpKM0",
        "colab_type": "text"
      },
      "cell_type": "markdown",
      "source": [
        "Crea pesos y bias para todas las capas que restan (segunda, tercera, y final). Ponle los siguientes nombres a los pesos y bias: `W2`, `b2`, `W3`, `b3`, `U`,  y `c`.\n",
        "\n",
        "Al terminar tu código (si ejecutas todo bien desde el `np.random.seed(30)`), al ejecutar esta línea de código \n",
        "\n",
        "```\n",
        "print(red.get_layer('final').get_weights()[0][0,3])\n",
        "```\n",
        "\n",
        "debieras obtener el valor `0.689416`.\n",
        "\n"
      ]
    },
    {
      "metadata": {
        "id": "gcrzK8RqlQGY",
        "colab_type": "code",
        "colab": {}
      },
      "cell_type": "code",
      "source": [
        "# Genera los nuevos pesos y bias\n",
        "# Acá empieza tu código (~6 líneas)\n",
        "W2 = np.random.randn(20,10).astype('float32')\n",
        "b2 = np.random.randn(10).astype('float32')\n",
        "\n",
        "W3 = np.random.randn(10,20).astype('float32')\n",
        "b3 = np.random.randn(20).astype('float32')\n",
        "U = np.random.randn(20,4).astype('float32')\n",
        "c = np.random.randn(4).astype('float32')\n",
        "\n",
        "# Acá termina tu código"
      ],
      "execution_count": 0,
      "outputs": []
    },
    {
      "metadata": {
        "id": "KDpnMrRRmwoy",
        "colab_type": "code",
        "colab": {}
      },
      "cell_type": "code",
      "source": [
        "# Ahora asigna los pesos a cada capa\n",
        "# Acá empieza tu código (~3 líneas)\n",
        "\n",
        "red.get_layer('segunda').set_weights((W2,b2))\n",
        "red.get_layer('tercera').set_weights((W3,b3))\n",
        "red.get_layer('final').set_weights((U,c))\n",
        "# Acá termina tu código\n",
        "\n",
        "# Pro-tip: puedes referirte a una capa por su índice\n",
        "# usando red.layers[i]."
      ],
      "execution_count": 0,
      "outputs": []
    },
    {
      "metadata": {
        "id": "iBExJxt9qmkX",
        "colab_type": "code",
        "colab": {
          "base_uri": "https://localhost:8080/",
          "height": 34
        },
        "outputId": "a63bd037-b719-496b-ee5a-071a0c6a0e41"
      },
      "cell_type": "code",
      "source": [
        "# Si todo anduvo bien, el valor de la variable impresa abajo\n",
        "# debiera ser 0.689416 (no olvides ejecutar todo el código desde \n",
        "# que se asigna la semilla).\n",
        "\n",
        "print(red.get_layer('final').get_weights()[0][0,3])"
      ],
      "execution_count": 15,
      "outputs": [
        {
          "output_type": "stream",
          "text": [
            "0.689416\n"
          ],
          "name": "stdout"
        }
      ]
    },
    {
      "metadata": {
        "id": "QBrHU8e7sBEK",
        "colab_type": "text"
      },
      "cell_type": "markdown",
      "source": [
        "## Ejercicio 3: Pasada hacia adelante por la red\n",
        "\n",
        "Una vez creada la red y los pesos, se puede usar la red completa para pasar un conjunto de datos completo por ella, también llamado \"predicción\". Para esto crearemos conjunntos de datos aleatorios."
      ]
    },
    {
      "metadata": {
        "id": "S2d3iJ8lqmjY",
        "colab_type": "code",
        "colab": {}
      },
      "cell_type": "code",
      "source": [
        "# Primero creamos datos de entrada (también random).\n",
        "# Crearemos M=1000 casos\n",
        "\n",
        "np.random.seed(30)\n",
        "M = 1000\n",
        "X = np.random.randn(M,30)"
      ],
      "execution_count": 0,
      "outputs": []
    },
    {
      "metadata": {
        "id": "sZKLZZF9vVNY",
        "colab_type": "code",
        "colab": {
          "base_uri": "https://localhost:8080/",
          "height": 272
        },
        "outputId": "d1ca5bcd-a996-4751-9a3e-67dc8470821b"
      },
      "cell_type": "code",
      "source": [
        "# Para seleccionar los datos desde la posición i a la j+1 hacemos X[i:j]\n",
        "# Lo siguiente muestra los ejemplos desde la posición 30, 31 y 32\n",
        "\n",
        "print(X[30:33]) # son 3 vectores de ejemplos (x1,x2,x3)"
      ],
      "execution_count": 17,
      "outputs": [
        {
          "output_type": "stream",
          "text": [
            "[[ 0.02774178  0.4898778   0.42023164 -0.28935611  0.03058479  0.43415183\n",
            "   1.99952698  0.43156425 -0.99050523 -0.05710909  1.10122304  1.29250437\n",
            "   0.54052745  1.25239432  1.02688276 -0.10774856  0.12366795  1.00560067\n",
            "  -0.59393001 -0.07775604  0.63217615  0.90495627  0.68279093 -1.68561859\n",
            "  -0.77282981  0.41267801  0.14633539 -0.29860478 -0.27525187  0.44420499]\n",
            " [-0.67035023  0.49450513  2.55843712  2.19707903  0.16479335  0.75229629\n",
            "   0.71596993 -1.28622365  0.37660482 -1.09513919 -0.20031038 -1.1451353\n",
            "  -0.39797647 -0.71142084 -1.80980539  1.05754653  0.03537652  1.17215615\n",
            "  -0.47500267 -0.09322557  0.10460944 -0.59988213 -0.875007   -1.26971285\n",
            "   0.51133401 -0.37615699  1.51819677  0.25781382  0.36449487 -0.10589305]\n",
            " [-1.18845366  0.53925576  3.15520268  0.71549632  0.58096965  0.19820515\n",
            "  -0.95753055 -1.11376489  1.09200004  1.6566401   0.48958599  0.44022759\n",
            "   1.34185802 -0.77255487 -1.52307972  0.92506015  1.15050752 -0.46007198\n",
            "   1.50099056  0.40347495  0.38191204 -0.34938277 -1.54875994  0.85549542\n",
            "   0.7839891  -1.80072624 -1.6498081  -0.71576758  0.6195948   2.04317234]]\n"
          ],
          "name": "stdout"
        }
      ]
    },
    {
      "metadata": {
        "id": "C9StpXF1qmew",
        "colab_type": "code",
        "colab": {
          "base_uri": "https://localhost:8080/",
          "height": 85
        },
        "outputId": "a52f9772-6873-423f-dd35-7fcecf22bd88"
      },
      "cell_type": "code",
      "source": [
        "# Para predecir con la red, simplemente usamos red.predict() y le pasamos\n",
        "# todos los ejemplos para los que queremos que haga una predicción.\n",
        "# Lo siguiente genera la predicción para los ejemplos 30, 31 y 32.\n",
        "# Nota que el resultado es un arreglo/matriz de 3x4 (note el uso de shape)\n",
        "\n",
        "Pred = red.predict(X[30:33])\n",
        "print(Pred)\n",
        "print('tamaño:', Pred.shape) # [9.99974966e-01 1.39367685e-05 1.03770853e-05 7.13941347e-07 suma 1"
      ],
      "execution_count": 18,
      "outputs": [
        {
          "output_type": "stream",
          "text": [
            "[[9.99974966e-01 1.39367685e-05 1.03770853e-05 7.13941347e-07]\n",
            " [9.99999046e-01 3.15607878e-07 5.82844336e-07 3.14352537e-11]\n",
            " [9.99989986e-01 1.92514062e-06 8.11958216e-06 9.63045407e-11]]\n",
            "tamaño: (3, 4)\n"
          ],
          "name": "stdout"
        }
      ]
    },
    {
      "metadata": {
        "id": "ld26YP8SweYS",
        "colab_type": "text"
      },
      "cell_type": "markdown",
      "source": [
        "Calcula la pasada hacia adelante (predicción) para los ejemplos desde el 890 al 903, ambos inclusive, y guardalos en la variable `Pred`.\n",
        "\n",
        "Luego imprime el valor `Pred[12,2]` y debiera darte el valor `0.9982584`"
      ]
    },
    {
      "metadata": {
        "id": "zUXaqNR9qmZg",
        "colab_type": "code",
        "colab": {
          "base_uri": "https://localhost:8080/",
          "height": 34
        },
        "outputId": "2796be52-cdae-4cb6-97c8-12626eff6969"
      },
      "cell_type": "code",
      "source": [
        "# Acá empieza tu código (~2 líneas)\n",
        "Pred = red.predict(X[890:903])\n",
        "print(Pred[12,2])\n",
        "\n",
        "# Acá termina tu código"
      ],
      "execution_count": 19,
      "outputs": [
        {
          "output_type": "stream",
          "text": [
            "0.9982584\n"
          ],
          "name": "stdout"
        }
      ]
    },
    {
      "metadata": {
        "id": "n7IXq8KdyqB9",
        "colab_type": "text"
      },
      "cell_type": "markdown",
      "source": [
        "## Ejercicio 4: Predicciones como probabilidades\n",
        "\n",
        "Cuando la red se usa con `softmax` en la última activación genera probabilidades que indican la probabilidad de predicción en cada clase. Para determinar la predicción en cada caso, podemos usar `np.argmax`, que calcula el índice del valor máximo en la predicción."
      ]
    },
    {
      "metadata": {
        "id": "coSL9RA9qmQs",
        "colab_type": "code",
        "colab": {
          "base_uri": "https://localhost:8080/",
          "height": 119
        },
        "outputId": "963c68c4-a335-4404-ea8e-64e38d956f8c"
      },
      "cell_type": "code",
      "source": [
        "# Calculemos primero la predicción para los inputs entre el 0:5\n",
        "\n",
        "Pred = red.predict(X[0:5])\n",
        "print(Pred)\n",
        "print(Pred.shape)"
      ],
      "execution_count": 20,
      "outputs": [
        {
          "output_type": "stream",
          "text": [
            "[[9.6245748e-01 2.8666502e-04 3.7254252e-02 1.5219060e-06]\n",
            " [5.7140428e-01 6.1606755e-04 4.2797640e-01 3.3052002e-06]\n",
            " [9.2316687e-01 1.9390047e-05 7.6813787e-02 1.3579302e-10]\n",
            " [9.9999034e-01 2.9783095e-08 9.7097090e-06 3.8440522e-11]\n",
            " [8.9252135e-03 2.6962367e-01 7.2144884e-01 2.3164405e-06]]\n",
            "(5, 4)\n"
          ],
          "name": "stdout"
        }
      ]
    },
    {
      "metadata": {
        "id": "fYybT1OP2MDv",
        "colab_type": "code",
        "colab": {
          "base_uri": "https://localhost:8080/",
          "height": 51
        },
        "outputId": "809a4d13-fc4b-4f42-a91e-f993ff106271"
      },
      "cell_type": "code",
      "source": [
        "# np.argmax entrega el índice de la posición de mayor valor.\n",
        "# Con axis=1, le decimos que el máximo se debe calcular en cada \"fila\"\n",
        "# quiero predecir para cada ejemplo x sub i\n",
        "clases = np.argmax(Pred, axis=1)# me dice el indice donde está el máximo y me sirve para determinar la mayor probabilidad\n",
        "print(clases)\n",
        "print(clases.shape) # posiciones ojo"
      ],
      "execution_count": 21,
      "outputs": [
        {
          "output_type": "stream",
          "text": [
            "[0 0 0 0 2]\n",
            "(5,)\n"
          ],
          "name": "stdout"
        }
      ]
    },
    {
      "metadata": {
        "id": "6edwFTJQ3YTN",
        "colab_type": "text"
      },
      "cell_type": "markdown",
      "source": [
        "Calcula la clase que la red predice para los ejemplos en los índices 199, 549, y 997. Tus resultados debieran ser 2, 0 y 1, respectivamente."
      ]
    },
    {
      "metadata": {
        "id": "4MK9cTpl1nBd",
        "colab_type": "code",
        "colab": {
          "base_uri": "https://localhost:8080/",
          "height": 119
        },
        "outputId": "51d88b79-c03a-41eb-cca2-acfd72e0481e"
      },
      "cell_type": "code",
      "source": [
        "# Acá empieza tu código (~5 líneas)\n",
        "\n",
        "p199 = red.predict(X[199:200])\n",
        "clases_p199 = np.argmax(p199, axis=1)\n",
        "\n",
        "print(p199)\n",
        "print(clases_p199)\n",
        "\n",
        "p549 = red.predict(X[549:550])\n",
        "clases_p549 = np.argmax(p549, axis=1)\n",
        "\n",
        "print(p549)\n",
        "print(clases_p549)\n",
        "\n",
        "p997 = red.predict(X[997:998])\n",
        "clases_p997 = np.argmax(p997, axis=1)\n",
        "\n",
        "print(p997)\n",
        "print(clases_p997)\n",
        "\n",
        "# Acá termina tu código"
      ],
      "execution_count": 22,
      "outputs": [
        {
          "output_type": "stream",
          "text": [
            "[[3.2270864e-01 2.8119089e-02 6.4915907e-01 1.3217777e-05]]\n",
            "[2]\n",
            "[[9.990013e-01 2.422665e-05 9.686702e-04 5.808001e-06]]\n",
            "[0]\n",
            "[[6.3697278e-02 7.0772088e-01 2.2858140e-01 4.1656253e-07]]\n",
            "[1]\n"
          ],
          "name": "stdout"
        }
      ]
    },
    {
      "metadata": {
        "id": "ITI4nuZZ4rLH",
        "colab_type": "text"
      },
      "cell_type": "markdown",
      "source": [
        "# Red para MNIST\n",
        "\n",
        "Ahora construiremos una red para un problema real de detección de números escritos a mano. No entrenaremos la red si no que cargaremos pesos directamente y la usaremos para hacer predicciónes. \n",
        "\n",
        "Vamos a partir cargando datos desde `keras.datasets.mnist`."
      ]
    },
    {
      "metadata": {
        "id": "VCBig7YD5Fp-",
        "colab_type": "code",
        "colab": {
          "base_uri": "https://localhost:8080/",
          "height": 51
        },
        "outputId": "8cd4f506-9190-415f-a26e-7b2173545952"
      },
      "cell_type": "code",
      "source": [
        "# Carga datos de MNIST (solo cargaremos un conjunto de pruebas).\n",
        "# Nota el tamaño de los datos\n",
        "\n",
        "_, (imgs, labs) = keras.datasets.mnist.load_data()\n",
        "print(imgs.shape)\n",
        "print(labs.shape)"
      ],
      "execution_count": 23,
      "outputs": [
        {
          "output_type": "stream",
          "text": [
            "(10000, 28, 28)\n",
            "(10000,)\n"
          ],
          "name": "stdout"
        }
      ]
    },
    {
      "metadata": {
        "id": "YJG2M0EFqmDM",
        "colab_type": "code",
        "colab": {
          "base_uri": "https://localhost:8080/",
          "height": 381
        },
        "outputId": "17578eef-b2c5-4415-9159-94129be7c0fc"
      },
      "cell_type": "code",
      "source": [
        "# Podemos visualizar una imagen cualquiera \n",
        "# (si ejecutas esta celda cambiando 'd' puedes ver una distinta)\n",
        "\n",
        "from matplotlib import pyplot as plt\n",
        "d = 8\n",
        "print('etiqueta:',labs[d])\n",
        "plt.imshow(imgs[d])"
      ],
      "execution_count": 24,
      "outputs": [
        {
          "output_type": "stream",
          "text": [
            "etiqueta: 5\n"
          ],
          "name": "stdout"
        },
        {
          "output_type": "execute_result",
          "data": {
            "text/plain": [
              "<matplotlib.image.AxesImage at 0x7f363bba75c0>"
            ]
          },
          "metadata": {
            "tags": []
          },
          "execution_count": 24
        },
        {
          "output_type": "display_data",
          "data": {
            "image/png": "[encoded data removed]",
            "text/plain": [
              "<matplotlib.figure.Figure at 0x7f364410aa90>"
            ]
          },
          "metadata": {
            "tags": []
          }
        }
      ]
    },
    {
      "metadata": {
        "id": "acd4D9ug62wE",
        "colab_type": "text"
      },
      "cell_type": "markdown",
      "source": [
        "Lo primero que debes notar es que los inputs tienen forma de (10000, 28, 28) lo que será  un problema para cualquier red que hagamos. Por lo que cambiaremos su forma y lo dejaremos todo en una matriz de 10000 x (28*28), esto lo hacemos con el comando `reshape`."
      ]
    },
    {
      "metadata": {
        "id": "Zwgirqpf6wSS",
        "colab_type": "code",
        "colab": {
          "base_uri": "https://localhost:8080/",
          "height": 51
        },
        "outputId": "d108c99f-e771-408d-ecc3-ca8df3888c8b"
      },
      "cell_type": "code",
      "source": [
        "print(imgs.shape)\n",
        "X = imgs.reshape(10000,28*28) # el reshape convierte los valores de la matriz 28*28 en una sóla de 784 valores\n",
        "print(X.shape)"
      ],
      "execution_count": 25,
      "outputs": [
        {
          "output_type": "stream",
          "text": [
            "(10000, 28, 28)\n",
            "(10000, 784)\n"
          ],
          "name": "stdout"
        }
      ]
    },
    {
      "metadata": {
        "id": "Rrn6QrOU7mSu",
        "colab_type": "text"
      },
      "cell_type": "markdown",
      "source": [
        "Lo siguiente que haremos será \"normalizar\" los valores de entrada, de manera tal que todos estén entre 0 y 1. Más adelante veremos que este paso resulta demasiado importante en el buen funcionamiento de las redes. Las imágenes son valores de intensidad de un pixel de entre 0 y 255. Para normalizarlos simplemente dividimos todos los datos por 255."
      ]
    },
    {
      "metadata": {
        "id": "ahNA9N-w7xU9",
        "colab_type": "code",
        "colab": {}
      },
      "cell_type": "code",
      "source": [
        "# Dividimos por 255\n",
        "X = X / 255"
      ],
      "execution_count": 0,
      "outputs": []
    },
    {
      "metadata": {
        "id": "rJ1-1vQO8Olq",
        "colab_type": "text"
      },
      "cell_type": "markdown",
      "source": [
        "##  Descripción de la  red para MNIST\n",
        "\n",
        "\n",
        "En esta parte, usaremos pesos y bias preconstruidos para crear una red que predice (con alta certeza) la etiqueta de imágenes de números escritos a mano en imágenes de 28x28 pixeles. La red tiene esta arquitectura:\n",
        "\n",
        "784 --> 32 (relu) --> 16 (relu) --> 10 (softmax) es razonable dado que son 10 números\n",
        "\n",
        "Tu trabajo será crear la red con esa arquitectura usando `keras.Sequential` y `keras.layers.Dense`, usar las funciones de activación correspondientes, cargar los pesos y bias en cada una  de las capas, y luego probar la red haciendo predicciones para ciertos ejemplos.\n",
        "\n",
        "** Este ejercicio es considerablemente más largo que los anteriores **"
      ]
    },
    {
      "metadata": {
        "id": "jI_uKzRd9xhV",
        "colab_type": "text"
      },
      "cell_type": "markdown",
      "source": [
        "## Paso 0: Construyendo las matrices de pesos\n",
        "\n",
        "Carga los pesos y bias  de la red. Los archivos son tales que `W1.txt` y `b1.txt`  corresponden al a primera capa, `W2.txt` y `b2.txt` a la segunda,  y `U` y `c` a la capa final."
      ]
    },
    {
      "metadata": {
        "id": "_DPyvChpa2Yn",
        "colab_type": "code",
        "colab": {
          "base_uri": "https://localhost:8080/",
          "height": 136
        },
        "outputId": "03716a37-9ad4-402e-88ac-195c9f70df1c"
      },
      "cell_type": "code",
      "source": [
        "# Con el siguiente código puedes descargar los pesos, estos pesos fueron procesados previamente por el profe\n",
        "# y descomprímelos en la carpeta mnist_weights.\n",
        "\n",
        "!wget -q dcc.uchile.cl/~jperez/cursos/cc66h/mnist_weights.tar.gz -o /dev/null\n",
        "!tar -zxvf mnist_weights.tar.gz"
      ],
      "execution_count": 27,
      "outputs": [
        {
          "output_type": "stream",
          "text": [
            "mnist_weights/\n",
            "mnist_weights/c.txt\n",
            "mnist_weights/W1.txt\n",
            "mnist_weights/b1.txt\n",
            "mnist_weights/b2.txt\n",
            "mnist_weights/U.txt\n",
            "mnist_weights/W2.txt\n"
          ],
          "name": "stdout"
        }
      ]
    },
    {
      "metadata": {
        "id": "z34D60UvPNps",
        "colab_type": "code",
        "colab": {
          "base_uri": "https://localhost:8080/",
          "height": 51
        },
        "outputId": "d516e5d1-c0ec-46db-b981-225558ea3266"
      },
      "cell_type": "code",
      "source": [
        "# Para cargar datos desde archivos en arreglos numpy\n",
        "# puedes usar np.loadtxt\n",
        "\n",
        "W1 = np.loadtxt('mnist_weights/W1.txt')\n",
        "print(W1.shape)\n",
        "b1 = np.loadtxt('mnist_weights/b1.txt')\n",
        "print(b1.shape)"
      ],
      "execution_count": 28,
      "outputs": [
        {
          "output_type": "stream",
          "text": [
            "(784, 32)\n",
            "(32,)\n"
          ],
          "name": "stdout"
        }
      ]
    },
    {
      "metadata": {
        "id": "z58yk9kyPiyq",
        "colab_type": "code",
        "colab": {
          "base_uri": "https://localhost:8080/",
          "height": 85
        },
        "outputId": "d85d689f-731f-427d-8ea6-87216bcb9206"
      },
      "cell_type": "code",
      "source": [
        "# Carga tu los datos en las variables W2, b2, U, y c\n",
        "\n",
        "# Acá empieza tu código (~4 lineas)\n",
        "W2 = np.loadtxt('mnist_weights/W2.txt')\n",
        "b2 = np.loadtxt('mnist_weights/b2.txt')\n",
        "U = np.loadtxt('mnist_weights/U.txt')\n",
        "c = np.loadtxt('mnist_weights/c.txt')\n",
        "\n",
        "# Acá termina tu código\n",
        "\n",
        "# Si todo funciona bien, el lo siguiente debiera imprimir los valores\n",
        "# -0.14337286353111267\n",
        "# 0.06190946325659752\n",
        "# 0.10503328591585159\n",
        "# 0.12370651960372925\n",
        "\n",
        "print(W2[5][7])\n",
        "print(b2[10])\n",
        "print(U[6][8])\n",
        "print(c[5])"
      ],
      "execution_count": 29,
      "outputs": [
        {
          "output_type": "stream",
          "text": [
            "-0.14337286353111267\n",
            "0.06190946325659752\n",
            "0.10503328591585159\n",
            "0.12370651960372925\n"
          ],
          "name": "stdout"
        }
      ]
    },
    {
      "metadata": {
        "id": "p151G5LU9kBZ",
        "colab_type": "text"
      },
      "cell_type": "markdown",
      "source": [
        "## Paso 1: Creando l a  red\n",
        "\n",
        "Crea la red. Llámale simplemente `red`.\n"
      ]
    },
    {
      "metadata": {
        "id": "XwE2o5aW9jVR",
        "colab_type": "code",
        "colab": {
          "base_uri": "https://localhost:8080/",
          "height": 238
        },
        "outputId": "9dbbc2a5-7a9d-4d3e-f973-608f32df847c"
      },
      "cell_type": "code",
      "source": [
        "# Acá empieza tu código (~5 líneas)\n",
        "red_mnist = keras.Sequential()\n",
        "\n",
        "\n",
        "red_mnist.add(\n",
        "    keras.layers.Dense(32, input_dim=784, activation='relu', name='first_layer')\n",
        ")\n",
        "\n",
        "red_mnist.add(\n",
        "    keras.layers.Dense(16, activation='relu', name='second_layer')\n",
        ")\n",
        "\n",
        "red_mnist.add(\n",
        "    keras.layers.Dense(10, activation='softmax', name='final')\n",
        ")\n",
        "red_mnist.summary()\n",
        "\n",
        "# Acá termina tu código"
      ],
      "execution_count": 30,
      "outputs": [
        {
          "output_type": "stream",
          "text": [
            "_________________________________________________________________\n",
            "Layer (type)                 Output Shape              Param #   \n",
            "=================================================================\n",
            "first_layer (Dense)          (None, 32)                25120     \n",
            "_________________________________________________________________\n",
            "second_layer (Dense)         (None, 16)                528       \n",
            "_________________________________________________________________\n",
            "final (Dense)                (None, 10)                170       \n",
            "=================================================================\n",
            "Total params: 25,818\n",
            "Trainable params: 25,818\n",
            "Non-trainable params: 0\n",
            "_________________________________________________________________\n"
          ],
          "name": "stdout"
        }
      ]
    },
    {
      "metadata": {
        "id": "cqtnSS0yQhpp",
        "colab_type": "text"
      },
      "cell_type": "markdown",
      "source": [
        "## Paso 2: Carga los pesos\n",
        "\n",
        "Carga los pesos en cada una de las capas  (según lo que aprendiste antes)"
      ]
    },
    {
      "metadata": {
        "id": "8HKdts_lQqpf",
        "colab_type": "code",
        "colab": {}
      },
      "cell_type": "code",
      "source": [
        "# Acá empieza tu código (~3 líneas)\n",
        "red_mnist.get_layer('first_layer').set_weights((W1,b1))\n",
        "red_mnist.get_layer('second_layer').set_weights((W2,b2))\n",
        "red_mnist.get_layer('final').set_weights((U,c))\n",
        "# Acá termina tu código"
      ],
      "execution_count": 0,
      "outputs": []
    },
    {
      "metadata": {
        "id": "XqS9-vraRc0g",
        "colab_type": "code",
        "colab": {
          "base_uri": "https://localhost:8080/",
          "height": 595
        },
        "outputId": "2e35239a-85cd-4ebb-a4ed-3bbafa6aa9ea"
      },
      "cell_type": "code",
      "source": [
        "# Si cargaste todo correctamente, lo siguiente debiera dar el valor 0.96696\n",
        "\n",
        "test_in = np.ones((1,28*28)).astype('float32')\n",
        "print(test_in)\n",
        "test_out = red_mnist.predict(test_in)\n",
        "print(test_out[0][7])"
      ],
      "execution_count": 32,
      "outputs": [
        {
          "output_type": "stream",
          "text": [
            "[[1. 1. 1. 1. 1. 1. 1. 1. 1. 1. 1. 1. 1. 1. 1. 1. 1. 1. 1. 1. 1. 1. 1. 1.\n",
            "  1. 1. 1. 1. 1. 1. 1. 1. 1. 1. 1. 1. 1. 1. 1. 1. 1. 1. 1. 1. 1. 1. 1. 1.\n",
            "  1. 1. 1. 1. 1. 1. 1. 1. 1. 1. 1. 1. 1. 1. 1. 1. 1. 1. 1. 1. 1. 1. 1. 1.\n",
            "  1. 1. 1. 1. 1. 1. 1. 1. 1. 1. 1. 1. 1. 1. 1. 1. 1. 1. 1. 1. 1. 1. 1. 1.\n",
            "  1. 1. 1. 1. 1. 1. 1. 1. 1. 1. 1. 1. 1. 1. 1. 1. 1. 1. 1. 1. 1. 1. 1. 1.\n",
            "  1. 1. 1. 1. 1. 1. 1. 1. 1. 1. 1. 1. 1. 1. 1. 1. 1. 1. 1. 1. 1. 1. 1. 1.\n",
            "  1. 1. 1. 1. 1. 1. 1. 1. 1. 1. 1. 1. 1. 1. 1. 1. 1. 1. 1. 1. 1. 1. 1. 1.\n",
            "  1. 1. 1. 1. 1. 1. 1. 1. 1. 1. 1. 1. 1. 1. 1. 1. 1. 1. 1. 1. 1. 1. 1. 1.\n",
            "  1. 1. 1. 1. 1. 1. 1. 1. 1. 1. 1. 1. 1. 1. 1. 1. 1. 1. 1. 1. 1. 1. 1. 1.\n",
            "  1. 1. 1. 1. 1. 1. 1. 1. 1. 1. 1. 1. 1. 1. 1. 1. 1. 1. 1. 1. 1. 1. 1. 1.\n",
            "  1. 1. 1. 1. 1. 1. 1. 1. 1. 1. 1. 1. 1. 1. 1. 1. 1. 1. 1. 1. 1. 1. 1. 1.\n",
            "  1. 1. 1. 1. 1. 1. 1. 1. 1. 1. 1. 1. 1. 1. 1. 1. 1. 1. 1. 1. 1. 1. 1. 1.\n",
            "  1. 1. 1. 1. 1. 1. 1. 1. 1. 1. 1. 1. 1. 1. 1. 1. 1. 1. 1. 1. 1. 1. 1. 1.\n",
            "  1. 1. 1. 1. 1. 1. 1. 1. 1. 1. 1. 1. 1. 1. 1. 1. 1. 1. 1. 1. 1. 1. 1. 1.\n",
            "  1. 1. 1. 1. 1. 1. 1. 1. 1. 1. 1. 1. 1. 1. 1. 1. 1. 1. 1. 1. 1. 1. 1. 1.\n",
            "  1. 1. 1. 1. 1. 1. 1. 1. 1. 1. 1. 1. 1. 1. 1. 1. 1. 1. 1. 1. 1. 1. 1. 1.\n",
            "  1. 1. 1. 1. 1. 1. 1. 1. 1. 1. 1. 1. 1. 1. 1. 1. 1. 1. 1. 1. 1. 1. 1. 1.\n",
            "  1. 1. 1. 1. 1. 1. 1. 1. 1. 1. 1. 1. 1. 1. 1. 1. 1. 1. 1. 1. 1. 1. 1. 1.\n",
            "  1. 1. 1. 1. 1. 1. 1. 1. 1. 1. 1. 1. 1. 1. 1. 1. 1. 1. 1. 1. 1. 1. 1. 1.\n",
            "  1. 1. 1. 1. 1. 1. 1. 1. 1. 1. 1. 1. 1. 1. 1. 1. 1. 1. 1. 1. 1. 1. 1. 1.\n",
            "  1. 1. 1. 1. 1. 1. 1. 1. 1. 1. 1. 1. 1. 1. 1. 1. 1. 1. 1. 1. 1. 1. 1. 1.\n",
            "  1. 1. 1. 1. 1. 1. 1. 1. 1. 1. 1. 1. 1. 1. 1. 1. 1. 1. 1. 1. 1. 1. 1. 1.\n",
            "  1. 1. 1. 1. 1. 1. 1. 1. 1. 1. 1. 1. 1. 1. 1. 1. 1. 1. 1. 1. 1. 1. 1. 1.\n",
            "  1. 1. 1. 1. 1. 1. 1. 1. 1. 1. 1. 1. 1. 1. 1. 1. 1. 1. 1. 1. 1. 1. 1. 1.\n",
            "  1. 1. 1. 1. 1. 1. 1. 1. 1. 1. 1. 1. 1. 1. 1. 1. 1. 1. 1. 1. 1. 1. 1. 1.\n",
            "  1. 1. 1. 1. 1. 1. 1. 1. 1. 1. 1. 1. 1. 1. 1. 1. 1. 1. 1. 1. 1. 1. 1. 1.\n",
            "  1. 1. 1. 1. 1. 1. 1. 1. 1. 1. 1. 1. 1. 1. 1. 1. 1. 1. 1. 1. 1. 1. 1. 1.\n",
            "  1. 1. 1. 1. 1. 1. 1. 1. 1. 1. 1. 1. 1. 1. 1. 1. 1. 1. 1. 1. 1. 1. 1. 1.\n",
            "  1. 1. 1. 1. 1. 1. 1. 1. 1. 1. 1. 1. 1. 1. 1. 1. 1. 1. 1. 1. 1. 1. 1. 1.\n",
            "  1. 1. 1. 1. 1. 1. 1. 1. 1. 1. 1. 1. 1. 1. 1. 1. 1. 1. 1. 1. 1. 1. 1. 1.\n",
            "  1. 1. 1. 1. 1. 1. 1. 1. 1. 1. 1. 1. 1. 1. 1. 1. 1. 1. 1. 1. 1. 1. 1. 1.\n",
            "  1. 1. 1. 1. 1. 1. 1. 1. 1. 1. 1. 1. 1. 1. 1. 1. 1. 1. 1. 1. 1. 1. 1. 1.\n",
            "  1. 1. 1. 1. 1. 1. 1. 1. 1. 1. 1. 1. 1. 1. 1. 1.]]\n",
            "0.96696\n"
          ],
          "name": "stdout"
        }
      ]
    },
    {
      "metadata": {
        "id": "BeFT2hyYUS5h",
        "colab_type": "text"
      },
      "cell_type": "markdown",
      "source": [
        "## Paso 3: Probabiilidades de predicción\n",
        "\n",
        "Primero imprime la imágen en el índice 195, y luego,  con tu red cargada calcula las probabilidades para cada clase para la imagen en el índice 195. ¿Cuáles son las dos clases más probables para este ejemplo?"
      ]
    },
    {
      "metadata": {
        "id": "6tS4YlSVbchu",
        "colab_type": "code",
        "colab": {
          "base_uri": "https://localhost:8080/",
          "height": 364
        },
        "outputId": "9748cba5-e8eb-4a64-aabb-3f6a48139b0a"
      },
      "cell_type": "code",
      "source": [
        "# Primero imprimimos\n",
        "plt.imshow(imgs[195])"
      ],
      "execution_count": 33,
      "outputs": [
        {
          "output_type": "execute_result",
          "data": {
            "text/plain": [
              "<matplotlib.image.AxesImage at 0x7f363588e7b8>"
            ]
          },
          "metadata": {
            "tags": []
          },
          "execution_count": 33
        },
        {
          "output_type": "display_data",
          "data": {
            "image/png": "[encoded data removed]",
            "text/plain": [
              "<matplotlib.figure.Figure at 0x7f3635846e80>"
            ]
          },
          "metadata": {
            "tags": []
          }
        }
      ]
    },
    {
      "metadata": {
        "id": "I17mjitvbAAF",
        "colab_type": "code",
        "colab": {
          "base_uri": "https://localhost:8080/",
          "height": 68
        },
        "outputId": "db50c7f8-0d4a-4787-ead2-f74aa7560448"
      },
      "cell_type": "code",
      "source": [
        "# Ahora calcula las probabilidades para cada clase. \n",
        "# Acá empieza tu código (~2 líneas)\n",
        "print(X[195:196].shape)\n",
        "p195 = red_mnist.predict(X[195:196])\n",
        "print(p195)\n",
        "\n",
        "# Acá termina tu código\n",
        "# Cuáles son las más altas?"
      ],
      "execution_count": 34,
      "outputs": [
        {
          "output_type": "stream",
          "text": [
            "(1, 784)\n",
            "[[6.3913240e-06 1.2654348e-02 1.4972060e-02 4.6275654e-01 5.2579492e-04\n",
            "  3.3708401e-02 4.6906403e-05 7.6674542e-04 4.6250260e-01 1.2060154e-02]]\n"
          ],
          "name": "stdout"
        }
      ]
    },
    {
      "metadata": {
        "id": "ScmWvBEjckPf",
        "colab_type": "text"
      },
      "cell_type": "markdown",
      "source": [
        "## Paso 4: Prediciendo Clases\n",
        "\n",
        "Usa lo que has aprendido antes (en particular la función `np.argmax`) para hacer un trozo de código que, dado un índice entre 0 y 9999, la etiqueta real de la imagen y la etiqueta predicha por la red, imprima una  imagen. La celda debería generar un output de la siguiente forma\n",
        "\n",
        "```\n",
        "etiqueta real: <valor1>\n",
        "predicción: <valor2>\n",
        "<imagen>\n",
        "```"
      ]
    },
    {
      "metadata": {
        "id": "ZAK8Kp7PcjsM",
        "colab_type": "code",
        "colab": {
          "base_uri": "https://localhost:8080/",
          "height": 415
        },
        "outputId": "2fd96051-aeec-4237-e7e3-68603ea08117"
      },
      "cell_type": "code",
      "source": [
        "# Acá empieza tu código (~5 líneas)\n",
        "d = 8\n",
        "print('etiqueta:',labs[d])\n",
        "plt.imshow(imgs[d])\n",
        "\n",
        "test = red_mnist.predict(X[8:9])\n",
        "print(test)\n",
        "clases_test = np.argmax(test, axis=1)\n",
        "print(clases_test)\n",
        "# Acá termina tu código"
      ],
      "execution_count": 35,
      "outputs": [
        {
          "output_type": "stream",
          "text": [
            "etiqueta: 5\n",
            "[[8.7412429e-04 7.5032818e-05 2.9643666e-04 4.2171959e-07 2.5967560e-03\n",
            "  3.0565225e-02 9.6465510e-01 7.2481057e-09 5.9760083e-04 3.3940232e-04]]\n",
            "[6]\n"
          ],
          "name": "stdout"
        },
        {
          "output_type": "display_data",
          "data": {
            "image/png": "[encoded data removed]",
            "text/plain": [
              "<matplotlib.figure.Figure at 0x7f36358a5860>"
            ]
          },
          "metadata": {
            "tags": []
          }
        }
      ]
    },
    {
      "metadata": {
        "id": "HmqbZXDth3ry",
        "colab_type": "text"
      },
      "cell_type": "markdown",
      "source": [
        "## Paso 5: Opcional\n",
        "\n",
        "Haz un trozo de código que calcule cuántas predicciones de la red fueron correctas y cuántas fueron incorrectas. Y muestre ejemplos de errores de la red."
      ]
    },
    {
      "metadata": {
        "id": "RuVK_Je3h26V",
        "colab_type": "code",
        "colab": {
          "base_uri": "https://localhost:8080/",
          "height": 51
        },
        "cellView": "both",
        "outputId": "525179a1-9333-424b-a6af-dba812577e60"
      },
      "cell_type": "code",
      "source": [
        "#@title\n",
        "# Acá empieza tu código (~5 líneas)\n",
        "c = 0\n",
        "inc = 0\n",
        "for i in range(0, 9999):\n",
        "  test = red_mnist.predict(X[i:i+1])\n",
        "  clases_test = np.argmax(test, axis=1)\n",
        "  if labs[i] == clases_test-1:\n",
        "    c = c + 1\n",
        "  else:\n",
        "    inc = inc + 1\n",
        "print(c)\n",
        "print(inc)\n",
        "# Acá termina tu código"
      ],
      "execution_count": 38,
      "outputs": [
        {
          "output_type": "stream",
          "text": [
            "28\n",
            "9971\n"
          ],
          "name": "stdout"
        }
      ]
    }
  ]
}